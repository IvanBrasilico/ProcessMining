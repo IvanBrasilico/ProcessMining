{
 "cells": [
  {
   "cell_type": "code",
   "execution_count": 1,
   "metadata": {
    "ExecuteTime": {
     "end_time": "2021-10-26T18:59:37.681308Z",
     "start_time": "2021-10-26T18:59:19.072457Z"
    }
   },
   "outputs": [],
   "source": [
    "import pandas as pd\n",
    "import pm4py\n",
    "from pm4py.objects.log.importer.xes import importer as xes_importer\n",
    "\n",
    "file_path = 'BPI_Challenge_2012.xes'"
   ]
  },
  {
   "cell_type": "code",
   "execution_count": null,
   "metadata": {},
   "outputs": [
    {
     "data": {
      "application/vnd.jupyter.widget-view+json": {
       "model_id": "d3dec9de9bfb4718b85016098e960b63",
       "version_major": 2,
       "version_minor": 0
      },
      "text/plain": [
       "HBox(children=(HTML(value='parsing log, completed traces :: '), FloatProgress(value=0.0, max=13087.0), HTML(va…"
      ]
     },
     "metadata": {},
     "output_type": "display_data"
    }
   ],
   "source": [
    "log = xes_importer.apply(file_path)"
   ]
  },
  {
   "cell_type": "code",
   "execution_count": null,
   "metadata": {},
   "outputs": [],
   "source": [
    "print(log[0]) #prints the first trace of the log\n",
    "print(len(log[0]))\n",
    "print(log[0][0]) #prints the first event of the first trace"
   ]
  },
  {
   "cell_type": "code",
   "execution_count": null,
   "metadata": {},
   "outputs": [],
   "source": [
    "print(log[1]) #prints the first trace of the log\n",
    "print(len(log[1]))"
   ]
  },
  {
   "cell_type": "code",
   "execution_count": null,
   "metadata": {},
   "outputs": [],
   "source": [
    "print(type(log[1]))"
   ]
  },
  {
   "cell_type": "code",
   "execution_count": null,
   "metadata": {},
   "outputs": [],
   "source": [
    "log[1].attributes['concept:name']"
   ]
  },
  {
   "cell_type": "code",
   "execution_count": null,
   "metadata": {},
   "outputs": [],
   "source": [
    "counter = [(trace.attributes['concept:name'], len(trace)) for trace in log]"
   ]
  },
  {
   "cell_type": "code",
   "execution_count": null,
   "metadata": {},
   "outputs": [],
   "source": [
    "len_events = [item[1] for item in counter]"
   ]
  },
  {
   "cell_type": "code",
   "execution_count": null,
   "metadata": {},
   "outputs": [],
   "source": [
    "n_traces = len(log)\n",
    "n_eventos = sum(len_events)\n",
    "max_eventos = max(len_events)\n",
    "min_eventos = min(len_events)"
   ]
  },
  {
   "cell_type": "code",
   "execution_count": null,
   "metadata": {},
   "outputs": [],
   "source": [
    "print(f'Total de casos: {n_traces}')\n",
    "print(f'Total de eventos: {n_eventos}')\n",
    "print(f'Eventos por caso: Mínimo {min_eventos}  Máximo {max_eventos}  Média {n_eventos / n_traces:0.2f}')"
   ]
  },
  {
   "cell_type": "code",
   "execution_count": null,
   "metadata": {},
   "outputs": [],
   "source": [
    "#Exibir o comprimento de alguns traces\n",
    "import random\n",
    "sampled_lens = random.sample(len_events, 20)\n",
    "print(sampled_lens)"
   ]
  },
  {
   "cell_type": "code",
   "execution_count": null,
   "metadata": {},
   "outputs": [],
   "source": [
    "#Histograma do comprimento dos traces\n",
    "df = pd.DataFrame(len_events)\n",
    "df.hist()"
   ]
  },
  {
   "cell_type": "code",
   "execution_count": null,
   "metadata": {},
   "outputs": [],
   "source": [
    "start_activities = pm4py.get_start_activities(log)\n",
    "end_activities = pm4py.get_end_activities(log)\n",
    "print(\"Start activities: {}\\nEnd activities: {}\".format(start_activities, end_activities))"
   ]
  },
  {
   "cell_type": "code",
   "execution_count": null,
   "metadata": {},
   "outputs": [],
   "source": [
    "petri_net, initial_marking, final_marking = pm4py.discover_petri_net_alpha(log)"
   ]
  },
  {
   "cell_type": "code",
   "execution_count": null,
   "metadata": {},
   "outputs": [],
   "source": [
    "import os\n",
    "os.environ[\"PATH\"] += os.pathsep + 'C:/Users/25052288840/Downloads/Graphviz/bin'\n",
    "pm4py.view_petri_net(petri_net)"
   ]
  },
  {
   "cell_type": "code",
   "execution_count": null,
   "metadata": {},
   "outputs": [],
   "source": [
    "process_tree = pm4py.discover_process_tree_inductive(log)"
   ]
  },
  {
   "cell_type": "code",
   "execution_count": null,
   "metadata": {},
   "outputs": [],
   "source": [
    "pm4py.view_process_tree(process_tree)"
   ]
  },
  {
   "cell_type": "code",
   "execution_count": null,
   "metadata": {},
   "outputs": [],
   "source": [
    "bpmn = pm4py.convert_to_bpmn(process_tree)"
   ]
  },
  {
   "cell_type": "code",
   "execution_count": null,
   "metadata": {},
   "outputs": [],
   "source": [
    "pm4py.view_bpmn(bpmn)"
   ]
  },
  {
   "cell_type": "code",
   "execution_count": null,
   "metadata": {},
   "outputs": [],
   "source": [
    "from pm4py.algo.analysis.woflan import algorithm as woflan\n",
    "from pm4py.algo.conformance.alignments import algorithm as alignments\n",
    "from pm4py.algo.evaluation.replay_fitness import algorithm as replay_fitness_evaluator\n",
    "from pm4py.algo.evaluation.precision import algorithm as precision_evaluator\n",
    "from pm4py.algo.evaluation.generalization import algorithm as generalization_evaluator\n",
    "from pm4py.algo.evaluation.simplicity import algorithm as simplicity_evaluator\n",
    "\n",
    "def cal_measure(xes_log, petrinet, initial_marking, final_marking):\n",
    "    parameters = {replay_fitness_evaluator.token_replay.Parameters.ACTIVITY_KEY: 'concept:name',\n",
    "                  replay_fitness_evaluator.alignment_based.Parameters.ACTIVITY_KEY: 'concept:name',\n",
    "                  woflan.Parameters.RETURN_ASAP_WHEN_NOT_SOUND: True,\n",
    "                  woflan.Parameters.PRINT_DIAGNOSTICS: False, woflan.Parameters.RETURN_DIAGNOSTICS: False,\n",
    "                  alignments.Parameters.SHOW_PROGRESS_BAR: False}\n",
    "    is_sound = woflan.apply(petrinet, initial_marking, final_marking, parameters=parameters)\n",
    "    if is_sound == True:\n",
    "        fitness = replay_fitness_evaluator.apply(xes_log, petrinet, initial_marking, final_marking,\n",
    "                                           parameters=parameters,\n",
    "                                           variant=replay_fitness_evaluator.Variants.ALIGNMENT_BASED)\n",
    "        precision = precision_evaluator.algorithm.apply(xes_log, petrinet, initial_marking, final_marking,\n",
    "                                              parameters=parameters, variant=precision_evaluator.Variants.ALIGN_ETCONFORMANCE)\n",
    "        f_score = 2 * ((fitness['averageFitness'] * precision) / (fitness['averageFitness'] + precision))\n",
    "        print('sound')\n",
    "    else:\n",
    "        fitness = replay_fitness_evaluator.apply(xes_log, petrinet, initial_marking, final_marking, \n",
    "                                           parameters=parameters, variant=replay_fitness_evaluator.Variants.TOKEN_BASED)\n",
    "        precision = precision_evaluator.apply(xes_log, petrinet, initial_marking, final_marking, \n",
    "                                                  parameters=parameters, variant=precision_evaluator.Variants.ETCONFORMANCE_TOKEN)\n",
    "        print('unsound')\n",
    "    generaliz = generalization_evaluator.apply(xes_log, petrinet, initial_marking, final_marking,\n",
    "                                               parameters=parameters, variant=generalization_evaluator.Variants.GENERALIZATION_TOKEN)\n",
    "    simplic = simplicity_evaluator.apply(petrinet)\n",
    "    f_score = 2 * ((fitness['log_fitness'] * precision) / (fitness['log_fitness'] + precision))\n",
    "    print('f_score:', f_score, 'fitness:', fitness['log_fitness'], \n",
    "              'precision:', precision, 'generaliz:', generaliz, 'simplic:', simplic)\n"
   ]
  },
  {
   "cell_type": "code",
   "execution_count": null,
   "metadata": {},
   "outputs": [],
   "source": [
    "cal_measure(log, petri_net, initial_marking, final_marking)"
   ]
  },
  {
   "cell_type": "markdown",
   "metadata": {},
   "source": [
    "# Analisar variâncias e desempenho / tempo"
   ]
  },
  {
   "cell_type": "code",
   "execution_count": null,
   "metadata": {},
   "outputs": [],
   "source": []
  }
 ],
 "metadata": {
  "kernelspec": {
   "display_name": "pm4py",
   "language": "python",
   "name": "pm4py"
  },
  "language_info": {
   "codemirror_mode": {
    "name": "ipython",
    "version": 3
   },
   "file_extension": ".py",
   "mimetype": "text/x-python",
   "name": "python",
   "nbconvert_exporter": "python",
   "pygments_lexer": "ipython3",
   "version": "3.8.5"
  }
 },
 "nbformat": 4,
 "nbformat_minor": 4
}
